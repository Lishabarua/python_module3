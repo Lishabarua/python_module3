{
 "cells": [
  {
   "cell_type": "markdown",
   "metadata": {},
   "source": [
    "### Exercise 1\n",
    "Ask a user for 5 names and place each one in to a list called <i>names</i>. Then, print <i>names</i>."
   ]
  },
  {
   "cell_type": "code",
   "execution_count": 1,
   "metadata": {},
   "outputs": [
    {
     "name": "stdout",
     "output_type": "stream",
     "text": [
      "enter a name: jon\n",
      "enter a name: jacob\n",
      "enter a name: jony\n",
      "enter a name: rony\n",
      "enter a name: sony\n",
      "['jon', 'jacob', 'jony', 'rony', 'sony']\n"
     ]
    }
   ],
   "source": [
    "names = []\n",
    "\n",
    "names.append(input(\"enter a name: \"))\n",
    "names.append(input(\"enter a name: \"))\n",
    "names.append(input(\"enter a name: \"))\n",
    "names.append(input(\"enter a name: \"))\n",
    "names.append(input(\"enter a name: \"))\n",
    "print(names)"
   ]
  },
  {
   "cell_type": "markdown",
   "metadata": {},
   "source": [
    "### Exercise 2\n",
    "Print out a randomly selected name in the names list."
   ]
  },
  {
   "cell_type": "code",
   "execution_count": 2,
   "metadata": {},
   "outputs": [
    {
     "name": "stdout",
     "output_type": "stream",
     "text": [
      "jon\n"
     ]
    }
   ],
   "source": [
    "import random as rand\n",
    "\n",
    "index = rand.randint(0, 4)\n",
    "print(names[index])"
   ]
  },
  {
   "cell_type": "markdown",
   "metadata": {},
   "source": [
    "### Exercise 3\n",
    "Ask for a color and store that answer. \n",
    "If the answer is grey then print out you found Victor's favorite color.\n",
    "Otherwise print out the color is not Victor's favorite color."
   ]
  },
  {
   "cell_type": "code",
   "execution_count": 3,
   "metadata": {},
   "outputs": [
    {
     "name": "stdout",
     "output_type": "stream",
     "text": [
      "what's victor's favorite color? grey\n",
      "you found victor's faorite color! \n",
      "Bye!\n"
     ]
    }
   ],
   "source": [
    "color = input(\"what's victor's favorite color? \")\n",
    "if color == \"grey\" :\n",
    "    print(\"you found victor's faorite color! \")\n",
    "else :\n",
    "    print(f\"{color} is not victor's favorite color.\")\n",
    "    \n",
    "print(\"Bye!\")"
   ]
  },
  {
   "cell_type": "markdown",
   "metadata": {},
   "source": [
    "### Exercise 4\n",
    "Ask for an exam score and store that number. If the number is greater than 100, then print out 'You cannot have an exam score higher than 100'. If the number doesn't exceeed 100 but is greater than or equal to 75, then print out 'You did great on your exam!'. Otherwise if they scored lower than 75, then print out 'You need to study harder'."
   ]
  },
  {
   "cell_type": "code",
   "execution_count": 4,
   "metadata": {},
   "outputs": [
    {
     "name": "stdout",
     "output_type": "stream",
     "text": [
      "enter a score: 75\n",
      "you did great on your exam\n"
     ]
    }
   ],
   "source": [
    "score = int(input(\"enter a score: \"))\n",
    "if score > 100 :\n",
    "    print(\"you cannot hace an exam score higher than 100.\")\n",
    "elif score >= 75 :\n",
    "    print(\"you did great on your exam\")\n",
    "else:\n",
    "    print(\"you need to study harder\")"
   ]
  },
  {
   "cell_type": "markdown",
   "metadata": {},
   "source": [
    "### Exercise 5\n",
    "Write a function to convert a test score to a grade where  \n",
    " - 90 - 100: A\n",
    " - 80 - 89:  B\n",
    " - 70 - 79:  C\n",
    " - 60 - 69:  D\n",
    " - < 60   :  F\n",
    " \n",
    "If a score is not between 0 and 100 then print out an error message. In the program, ask the user for a score and then call your function. "
   ]
  },
  {
   "cell_type": "code",
   "execution_count": 7,
   "metadata": {},
   "outputs": [
    {
     "name": "stdout",
     "output_type": "stream",
     "text": [
      "please enter a test score: 100\n",
      "Grade is A\n"
     ]
    }
   ],
   "source": [
    "def convert_to_grade(score) :\n",
    "    if score > 100 or score < 0 :\n",
    "        msg = \"score must be between 0 and 100\"\n",
    "    elif score >= 90 :\n",
    "        msg = \"Grade is A\"\n",
    "    elif score >= 80 :\n",
    "        msg = \"Grade is B\"\n",
    "    elif score >= 70 :\n",
    "        msg = \"Grade is C\"\n",
    "    elif score >= 60 :\n",
    "        msg = \"Grade is D\"\n",
    "    else :\n",
    "        msg = \"Grade is F\"\n",
    "    \n",
    "    return msg\n",
    "\n",
    "score = int(input(\"please enter a test score: \"))\n",
    "print(convert_to_grade(score))"
   ]
  }
 ],
 "metadata": {
  "kernelspec": {
   "display_name": "Python 3",
   "language": "python",
   "name": "python3"
  },
  "language_info": {
   "codemirror_mode": {
    "name": "ipython",
    "version": 3
   },
   "file_extension": ".py",
   "mimetype": "text/x-python",
   "name": "python",
   "nbconvert_exporter": "python",
   "pygments_lexer": "ipython3",
   "version": "3.8.8"
  }
 },
 "nbformat": 4,
 "nbformat_minor": 4
}
